{
 "cells": [
  {
   "cell_type": "markdown",
   "metadata": {},
   "source": [
    "# Preamble: A Brand New Jay\n",
    "\n",
    "After an eventful season on season 8 of *A Brand New Jay*, the 3 remaining contestants were invited to Jay Stacksby's private island for the last three episodes. When the day of filming the finale came Mr. Stacksby was found with one of his Professional Series 8-inch Chef Knives plunged through his heart! After the initial investigation highlighted that the film crew all lived in a separate house on the other side of the island, it was concluded that only the three contestants were near enough to Stacksby in order to commit a crime. At the scene of the crime, a letter was left. Here are the contents of that letter:\n",
    "\n",
    "> You may call me heartless, a killer, a monster, a murderer, but I'm still NOTHING compared to the villian that Jay was. This whole contest was a sham, an elaborate plot to shame the contestants and feed Jay's massive, massive ego. SURE you think you know him! You've seen him smiling for the cameras, laughing, joking, telling stories, waving his money around like a prop but off camera he was a sinister beast, a cruel cruel taskmaster, he treated all of us like slaves, like cattle, like animals! Do you remember Lindsay, she was the first to go, he called her such horrible things that she cried all night, keeping up all up, crying, crying, and more crying, he broke her with his words. I miss my former cast members, all of them very much. And we had to live with him, live in his home, live in his power, deal with his crazy demands. AND FOR WHAT! DID YOU KNOW THAT THE PRIZE ISN'T REAL? He never intended to marry one of us! The carrot on the stick was gone, all that was left was stick, he told us last night that we were all a terrible terrible disappointment and none of us would ever amount to anything, and that regardless of who won the contest he would never speak to any of us again! It's definitely the things like this you can feel in your gut how wrong he is! Well I showed him, he got what he deserved all right, I showed him, I showed him the person I am! I wasn't going to be pushed around any longer, and I wasn't going to let him go on pretending that he was some saint when all he was was a sick sick twisted man who deserved every bit of what he got. The fans need to know, Jay Stacksby is a vile amalgamation of all things evil and bad and the world is a better place without him.\n",
    "\n",
    "Pretty sinister stuff! Luckily, in addition to this bold-faced admission, we have the introduction letters of the three contestants. Maybe there is a way to use this information to determine who the author of this murder letter is?\n",
    "\n",
    "Myrtle Beech's introduction letter:\n",
    "> Salutations. My name? Myrtle. Myrtle Beech. I am a woman of simple tastes. I enjoy reading, thinking, and doing my taxes. I entered this competition because I want a serious relationship. I want a commitment. The last man I dated was too whimsical. He wanted to go on dates that had no plan. No end goal. Sometimes we would just end up wandering the streets after dinner. He called it a \"walk\". A \"walk\" with no destination. Can you imagine? I like every action I take to have a measurable effect. When I see a movie, I like to walk away with insights that I did not have before. When I take a bike ride, there better be a worthy destination at the end of the bike path. Jay seems frivolous at times. This worries me. However, it is my staunch belief that one does not make and keep money without having a modicum of discipline. As such, I am hopeful. I will now list three things I cannot live without. Water. Emery boards. Dogs. Thank you for the opportunity to introduce myself. I look forward to the competition. \n",
    "\n",
    "Lily Trebuchet's introduction letter:\n",
    "> Hi, I'm Lily Trebuchet from East Egg, Long Island. I love cats, hiking, and curling up under a warm blanket with a book. So they gave this little questionnaire to use for our bios so lets get started. What are some of my least favorite household chores? Dishes, oh yes it's definitely the dishes, I just hate doing them, don't you? Who is your favorite actor and why? Hmm, that's a hard one, but I think recently I'll have to go with Michael B. Jordan, every bit of that man is handsome, HANDSOME! Do you remember seeing him shirtless? I can't believe what he does for the cameras! Okay okay next question, what is your perfect date? Well it starts with a nice dinner at a delicious but small restaurant, you know like one of those places where the owner is in the back and comes out to talk to you and ask you how your meal was. My favorite form of art? Another hard one, but I think I'll have to go with music, music you can feel in your whole body and it is electrifying and best of all, you can dance to it! Okay final question, let's see, What are three things you cannot live without? Well first off, my beautiful, beautiful cat Jerry, he is my heart and spirit animal. Second is pasta, definitely pasta, and the third I think is my family, I love all of them very much and they support me in everything I do. I know Jay Stacksby is a handsome man and all of us want to be the first to walk down the aisle with him, but I think he might truly be the one for me. Okay that's it for the bio, I hope you have fun watching the show! \n",
    "\n",
    "Gregg T Fishy's introduction letter:\n",
    "\n",
    "> A good day to you all, I am Gregg T Fishy, of the Fishy Enterprise fortune. I am 37 years young. An adventurous spirit and I've never lost my sense of childlike wonder. I do love to be in the backyard gardening and I have the most extraordinary time when I'm fishing. Fishing for what, you might ask? Why, fishing for compliments of course! I have a stunning pair of radiant blue eyes. They will pierce the soul of anyone who dare gaze upon my countenance. I quite enjoy going on long jaunts through garden paths and short walks through greenhouses. I hope that Jay will be as absolutely interesting as he appears on the television. I find that he has some of the most curious tastes in style and humor. When I'm out and about I quite enjoy hearing tales that instill in my heart of hearts the fascination that beguiles my every day life. Every fiber of my being scintillates and vascillates with extreme pleasure during one of these charming anecdotes and significantly pleases my beautiful personage. I cannot wait to enjoy being on A Brand New Jay. It certainly seems like a grand time to explore life and love."
   ]
  },
  {
   "cell_type": "markdown",
   "metadata": {},
   "source": [
    "## Saving The Different Examples as Variables\n",
    "\n",
    "First let's create variables to hold the text data in! Save the muder note as a string in a variable called `murder_note`. Save Lily Trebuchet's introduction into `lily_trebuchet_intro`. Save Myrtle Beech's introduction into `myrtle_beech_intro`. Save Gregg T Fishy's introduction into `gregg_t_fishy_intro`."
   ]
  },
  {
   "cell_type": "code",
   "execution_count": 1,
   "metadata": {},
   "outputs": [],
   "source": [
    "murder_note = \"You may call me heartless, a killer, a monster, a murderer, but I'm still NOTHING compared to the villian that Jay was. This whole contest was a sham, an elaborate plot to shame the contestants and feed Jay's massive, massive ego. SURE you think you know him! You've seen him smiling for the cameras, laughing, joking, telling stories, waving his money around like a prop but off camera he was a sinister beast, a cruel cruel taskmaster, he treated all of us like slaves, like cattle, like animals! Do you remember Lindsay, she was the first to go, he called her such horrible things that she cried all night, keeping up all up, crying, crying, and more crying, he broke her with his words. I miss my former cast members, all of them very much. And we had to live with him, live in his home, live in his power, deal with his crazy demands. AND FOR WHAT! DID YOU KNOW THAT THE PRIZE ISN'T REAL? He never intended to marry one of us! The carrot on the stick was gone, all that was left was stick, he told us last night that we were all a terrible terrible disappointment and none of us would ever amount to anything, and that regardless of who won the contest he would never speak to any of us again! It's definitely the things like this you can feel in your gut how wrong he is! Well I showed him, he got what he deserved all right, I showed him, I showed him the person I am! I wasn't going to be pushed around any longer, and I wasn't going to let him go on pretending that he was some saint when all he was was a sick sick twisted man who deserved every bit of what he got. The fans need to know, Jay Stacksby is a vile amalgamation of all things evil and bad and the world is a better place without him.\"\n",
    "lily_trebuchet_intro = \"Hi, I'm Lily Trebuchet from East Egg, Long Island. I love cats, hiking, and curling up under a warm blanket with a book. So they gave this little questionnaire to use for our bios so lets get started. What are some of my least favorite household chores? Dishes, oh yes it's definitely the dishes, I just hate doing them, don't you? Who is your favorite actor and why? Hmm, that's a hard one, but I think recently I'll have to go with Michael B. Jordan, every bit of that man is handsome, HANDSOME! Do you remember seeing him shirtless? I can't believe what he does for the cameras! Okay okay next question, what is your perfect date? Well it starts with a nice dinner at a delicious but small restaurant, you know like one of those places where the owner is in the back and comes out to talk to you and ask you how your meal was. My favorite form of art? Another hard one, but I think I'll have to go with music, music you can feel in your whole body and it is electrifying and best of all, you can dance to it! Okay final question, let's see, What are three things you cannot live without? Well first off, my beautiful, beautiful cat Jerry, he is my heart and spirit animal. Second is pasta, definitely pasta, and the third I think is my family, I love all of them very much and they support me in everything I do. I know Jay Stacksby is a handsome man and all of us want to be the first to walk down the aisle with him, but I think he might truly be the one for me. Okay that's it for the bio, I hope you have fun watching the show! \"\n",
    "myrtle_beech_intro = \"Salutations. My name? Myrtle. Myrtle Beech. I am a woman of simple tastes. I enjoy reading, thinking, and doing my taxes. I entered this competition because I want a serious relationship. I want a commitment. The last man I dated was too whimsical. He wanted to go on dates that had no plan. No end goal. Sometimes we would just end up wandering the streets after dinner. He called it a \\\"walk\\\". A \\\"walk\\\" with no destination. Can you imagine? I like every action I take to have a measurable effect. When I see a movie, I like to walk away with insights that I did not have before. When I take a bike ride, there better be a worthy destination at the end of the bike path. Jay seems frivolous at times. This worries me. However, it is my staunch belief that one does not make and keep money without having a modicum of discipline. As such, I am hopeful. I will now list three things I cannot live without. Water. Emery boards. Dogs. Thank you for the opportunity to introduce myself. I look forward to the competition. \"\n",
    "gregg_t_fishy_intro = \"A good day to you all, I am Gregg T Fishy, of the Fishy Enterprise fortune. I am 37 years young. An adventurous spirit and I've never lost my sense of childlike wonder. I do love to be in the backyard gardening and I have the most extraordinary time when I'm fishing. Fishing for what, you might ask? Why, fishing for compliments of course! I have a stunning pair of radiant blue eyes. They will pierce the soul of anyone who dare gaze upon my countenance. I quite enjoy going on long jaunts through garden paths and short walks through greenhouses. I hope that Jay will be as absolutely interesting as he appears on the television. I find that he has some of the most curious tastes in style and humor. When I'm out and about I quite enjoy hearing tales that instill in my heart of hearts the fascination that beguiles my every day life. Every fiber of my being scintillates and vascillates with extreme pleasure during one of these charming anecdotes and significantly pleases my beautiful personage. I cannot wait to enjoy being on A Brand New Jay. It certainly seems like a grand time to explore life and love.\""
   ]
  },
  {
   "cell_type": "markdown",
   "metadata": {},
   "source": [
    "## The First Indicator: Sentence Length\n",
    "\n",
    "Perhaps some meaningful data can first be gleaned from these text examples if we measure how long the average sentence length is. Different authors have different patterns of written speech, so this could be very useful in tracking down the killer.\n",
    "\n",
    "Write a function `get_average_sentence_length` that takes some `text` as an argument. This function should return the average number of words in a sentence in the text.\n",
    "\n",
    "Hint (highlight this hint in order to reveal it): \n",
    "<font color=\"white\">Use your knowledge of _string methods_ to create a list of all of the sentences in a text, called **sentences_in_text**. \n",
    "Further break up each **sentences_in_text** into a list of words and save the _length_ of that list of words to a new list that contains all the sentence lengths, called **sentence_lengths**. Take the average of all of the sentence lengths by adding them all together and dividing by the number of sentences (which should be the same as the length of the **sentence_lengths**).\n",
    "\n",
    "Remember sentences can end with more than one kind of punctuation, you might find it easiest to use **.replace()** so you only have to split on one punctuation mark. Remember **.replace()** doesn't modify the string itself, it returns a new string!</font>"
   ]
  },
  {
   "cell_type": "code",
   "execution_count": 2,
   "metadata": {},
   "outputs": [],
   "source": [
    "import re\n",
    "\n",
    "# This function returns the average length of a submitted sentence\n",
    "def get_average_sentence_length(text):\n",
    "    words = []\n",
    "    number_of_words = 0\n",
    "    number_of_sentences = 0\n",
    "    average = 0\n",
    "    \n",
    "    # This replaces end of sentence punctuation with pipes and commas with spaces then splits the text into sentences\n",
    "    sentences_in_text = text.replace('.', '|').replace('?', '|').replace('!', '|').replace(',', ' ').split('|')    \n",
    "    \n",
    "    # This splits the sentence into words\n",
    "    for word in sentences_in_text:\n",
    "        words.append(word.split(' '))\n",
    "    \n",
    "    # The counts the words\n",
    "    for word in words:\n",
    "        number_of_words += len(word)\n",
    "    \n",
    "    # These next lines calculate and return the average sentence length\n",
    "    number_of_sentences = len(words)\n",
    "    average = int(number_of_words / number_of_sentences)\n",
    "    return average\n",
    "\n",
    "# This function makes all of the text lower case, replaces special characters with pipes, and replaces commas with spaces\n",
    "def prepared_text(text):\n",
    "        text_lower = text.lower()\n",
    "        text_replace = text_lower.replace('.', '|').replace('?', '|').replace('!', '|').replace(',', ' ')\n",
    "        # Having a little fun with regular expressions to get just the words\n",
    "        text_replace_split= re.findall(r\"[\\w']+\", text_replace)\n",
    "        return text_replace_split\n",
    "    \n",
    "# Shows the frequency of how often certain sequences of input appears \n",
    "def build_frequency_table(corpus):\n",
    "    frequency_table = {}\n",
    "    for element in corpus:\n",
    "        if element in frequency_table:\n",
    "            frequency_table[element] += 1\n",
    "        else:\n",
    "            frequency_table[element] = 1\n",
    "    return frequency_table\n",
    "\n",
    "# Parts of this function were borrowed from Albert Au Yeung\n",
    "# The original code can be found at http://www.albertauyeung.com/post/generating-ngrams-python/\n",
    "def ngram_creator(text_list):\n",
    "    tokens = text_list\n",
    "    ngrams = zip(*[tokens[i:] for i in range(2)])\n",
    "    return [\" \".join(ngram) for ngram in ngrams]\n",
    "\n",
    "# Thank you Slack\n",
    "def frequency_comparison(table1, table2):\n",
    "    appearances = 0\n",
    "    mutual_appearances = 0\n",
    "    for word in table1.keys():\n",
    "        if word in table2.keys():\n",
    "            if table1[word] <= table2[word]:\n",
    "                mutual_appearances = mutual_appearances + table1[word]\n",
    "                appearances = table2[word]\n",
    "            else:\n",
    "                mutual_appearances = mutual_appearances + table2[word]\n",
    "                appearances = table1[word]\n",
    "        else:\n",
    "            appearances = appearances + table1[word]\n",
    "    for word in table2.keys():\n",
    "        if word not in table1.keys():\n",
    "            appearances = appearances + table2[word]\n",
    "    return mutual_appearances / appearances\n",
    "\n",
    "# Taken from the assignment sheet. Returns percent difference.  Learn something new everyday.\n",
    "def percent_difference(value1, value2):\n",
    "    value = abs(value1 - value2) /((value1 + value2)/2)\n",
    "    return value\n",
    "\n",
    "# How to find a murderer\n",
    "def find_text_similarity(text1, text2):\n",
    "    sentence_length_difference = percent_difference(get_average_sentence_length(text1), get_average_sentence_length(text2))\n",
    "    sentence_length_similarity = abs(1-float(sentence_length_difference))\n",
    "    word_count_similarity = frequency_comparison(build_frequency_table(prepared_text(text1)),build_frequency_table(prepared_text(text2)))\n",
    "    ngram_similarity = frequency_comparison(build_frequency_table(ngram_creator(prepared_text(text1))),build_frequency_table(ngram_creator(prepared_text(text2))))\n",
    "                                                          \n",
    "    return (sentence_length_similarity + word_count_similarity + ngram_similarity)/3"
   ]
  },
  {
   "cell_type": "markdown",
   "metadata": {},
   "source": [
    "## Creating The Definition for Our Model\n",
    "\n",
    "Now that we have a metric we want to save and data that is coupled with that metric, it might be time to create our data type. Let's define a class called `TextSample` with a constructor. The constructor should take two arguments: `text` and `author`. `text` should be saved as `self.raw_text`. Call `get_average_sentence_length` with the raw text and save it to `self.average_sentence_length`. You should save the author of the text as `self.author`.\n",
    "\n",
    "Additionally, define a string representation for the model. If you print a `TextSample` it should render:\n",
    " - The author's name\n",
    " - The average sentence length\n",
    " \n",
    "This will be your main class for the problem at hand. All later instruction to update `TextSample` should be done in the code block below. After updating `TextSample`, click on the `Cell` option in the Jupyter Notebook main menu above, then click `Run All` to rerun the cells from top to bottom. If you need to restart your Jupyter Notebook either run the cells below first or move the `TextSample` class definition & instantiation cells to the bottom."
   ]
  },
  {
   "cell_type": "code",
   "execution_count": 3,
   "metadata": {},
   "outputs": [],
   "source": [
    "class TextSample:\n",
    "    def __init__(self, text, author):\n",
    "        self.raw_text = text\n",
    "        self.author = author\n",
    "        self.average_sentence_length = get_average_sentence_length(text)\n",
    "        self.prepared_text = prepared_text(text)\n",
    "        self.word_count_frequency = build_frequency_table(self.prepared_text)\n",
    "        self.ngram_frequency = build_frequency_table(ngram_creator(prepared_text(text)))\n",
    "        \n",
    "    def __repr__(self):\n",
    "        return \"The author's name is \" +self.author+ \" and the average sentence length is: \" +str(self.average_sentence_length)\n",
    "    "
   ]
  },
  {
   "cell_type": "markdown",
   "metadata": {},
   "source": [
    "### Creating our TextSample Instances\n",
    "\n",
    "Now create a `TextSample` object for each of the samples of text that we have.\n",
    " - `murderer_sample` for the murderer's note.\n",
    " - `lily_sample` for Lily Trebuchet's note.\n",
    " - `myrtle_sample` for Myrtle Beech's note.\n",
    " - `gregg_sample` for Gregg T Fishy's note.\n",
    " \n",
    "Print out each one after instantiating them."
   ]
  },
  {
   "cell_type": "code",
   "execution_count": 4,
   "metadata": {},
   "outputs": [
    {
     "name": "stdout",
     "output_type": "stream",
     "text": [
      "The author's name is murderer and the average sentence length is: 23\n",
      "The author's name is Lilly Trebuchet and the average sentence length is: 17\n",
      "The author's name is Myrtle Beech and the average sentence length is: 7\n",
      "The author's name is Gregg T Fishy and the average sentence length is: 13\n"
     ]
    }
   ],
   "source": [
    "murderer_sample = TextSample(murder_note, 'murderer')\n",
    "lily_sample = TextSample(lily_trebuchet_intro, 'Lilly Trebuchet')\n",
    "myrtle_sample = TextSample(myrtle_beech_intro, 'Myrtle Beech')\n",
    "gregg_sample = TextSample(gregg_t_fishy_intro, 'Gregg T Fishy')\n",
    "print(murderer_sample)\n",
    "print(lily_sample)\n",
    "print(myrtle_sample)\n",
    "print(gregg_sample)"
   ]
  },
  {
   "cell_type": "markdown",
   "metadata": {},
   "source": [
    "## Cleaning Our Data\n",
    "\n",
    "We want to compare the word choice and usage between the samples, but sentences make our text data fairly messy. In order to analyze the different messages fairly, we'll need to remove all the punctuation and uppercase letters from the samples.\n",
    "\n",
    "Create a function called `prepare_text` that takes a single parameter `text`, makes the text entirely lowercase, removes all the punctuation and returns a list of the words in the text in order.\n",
    "\n",
    "For example: `\"Where did you go, friend? We nearly saw each other.\"` would become `['where', 'did', 'you', 'go', 'friend', 'we', 'nearly', 'saw', 'each', 'other']`."
   ]
  },
  {
   "cell_type": "code",
   "execution_count": 5,
   "metadata": {},
   "outputs": [
    {
     "name": "stdout",
     "output_type": "stream",
     "text": [
      "['hi', \"i'm\", 'lily', 'trebuchet', 'from', 'east', 'egg', 'long', 'island', 'i', 'love', 'cats', 'hiking', 'and', 'curling', 'up', 'under', 'a', 'warm', 'blanket', 'with', 'a', 'book', 'so', 'they', 'gave', 'this', 'little', 'questionnaire', 'to', 'use', 'for', 'our', 'bios', 'so', 'lets', 'get', 'started', 'what', 'are', 'some', 'of', 'my', 'least', 'favorite', 'household', 'chores', 'dishes', 'oh', 'yes', \"it's\", 'definitely', 'the', 'dishes', 'i', 'just', 'hate', 'doing', 'them', \"don't\", 'you', 'who', 'is', 'your', 'favorite', 'actor', 'and', 'why', 'hmm', \"that's\", 'a', 'hard', 'one', 'but', 'i', 'think', 'recently', \"i'll\", 'have', 'to', 'go', 'with', 'michael', 'b', 'jordan', 'every', 'bit', 'of', 'that', 'man', 'is', 'handsome', 'handsome', 'do', 'you', 'remember', 'seeing', 'him', 'shirtless', 'i', \"can't\", 'believe', 'what', 'he', 'does', 'for', 'the', 'cameras', 'okay', 'okay', 'next', 'question', 'what', 'is', 'your', 'perfect', 'date', 'well', 'it', 'starts', 'with', 'a', 'nice', 'dinner', 'at', 'a', 'delicious', 'but', 'small', 'restaurant', 'you', 'know', 'like', 'one', 'of', 'those', 'places', 'where', 'the', 'owner', 'is', 'in', 'the', 'back', 'and', 'comes', 'out', 'to', 'talk', 'to', 'you', 'and', 'ask', 'you', 'how', 'your', 'meal', 'was', 'my', 'favorite', 'form', 'of', 'art', 'another', 'hard', 'one', 'but', 'i', 'think', \"i'll\", 'have', 'to', 'go', 'with', 'music', 'music', 'you', 'can', 'feel', 'in', 'your', 'whole', 'body', 'and', 'it', 'is', 'electrifying', 'and', 'best', 'of', 'all', 'you', 'can', 'dance', 'to', 'it', 'okay', 'final', 'question', \"let's\", 'see', 'what', 'are', 'three', 'things', 'you', 'cannot', 'live', 'without', 'well', 'first', 'off', 'my', 'beautiful', 'beautiful', 'cat', 'jerry', 'he', 'is', 'my', 'heart', 'and', 'spirit', 'animal', 'second', 'is', 'pasta', 'definitely', 'pasta', 'and', 'the', 'third', 'i', 'think', 'is', 'my', 'family', 'i', 'love', 'all', 'of', 'them', 'very', 'much', 'and', 'they', 'support', 'me', 'in', 'everything', 'i', 'do', 'i', 'know', 'jay', 'stacksby', 'is', 'a', 'handsome', 'man', 'and', 'all', 'of', 'us', 'want', 'to', 'be', 'the', 'first', 'to', 'walk', 'down', 'the', 'aisle', 'with', 'him', 'but', 'i', 'think', 'he', 'might', 'truly', 'be', 'the', 'one', 'for', 'me', 'okay', \"that's\", 'it', 'for', 'the', 'bio', 'i', 'hope', 'you', 'have', 'fun', 'watching', 'the', 'show']\n"
     ]
    }
   ],
   "source": [
    "print(lily_sample.prepared_text)"
   ]
  },
  {
   "cell_type": "markdown",
   "metadata": {},
   "source": [
    "Update the constructor for `TextSample` to save the prepared text as `self.prepared_text`."
   ]
  },
  {
   "cell_type": "markdown",
   "metadata": {},
   "source": [
    "## Building A Frequency Table\n",
    "\n",
    "Now we want to see which words were most frequently used in each of the samples. Create a function called `build_frequency_table`. It takes in a list called `corpus` and creates a dictionary called `frequency_table`. For every element in `corpus` the value `frequency_table[element]` should be equal to the number of times that element appears in `corpus`. For example the input `['do', 'you', 'see', 'what', 'i', 'see']` would create the frequency table `{'what': 1, 'you': 1, 'see' 2, 'i': 1}`."
   ]
  },
  {
   "cell_type": "code",
   "execution_count": 6,
   "metadata": {},
   "outputs": [
    {
     "name": "stdout",
     "output_type": "stream",
     "text": [
      "{'a': 4, 'good': 1, 'day': 2, 'to': 4, 'you': 2, 'all': 1, 'i': 10, 'am': 2, 'gregg': 1, 't': 1, 'fishy': 2, 'of': 9, 'the': 7, 'enterprise': 1, 'fortune': 1, '37': 1, 'years': 1, 'young': 1, 'an': 1, 'adventurous': 1, 'spirit': 1, 'and': 8, \"i've\": 1, 'never': 1, 'lost': 1, 'my': 6, 'sense': 1, 'childlike': 1, 'wonder': 1, 'do': 1, 'love': 2, 'be': 2, 'in': 3, 'backyard': 1, 'gardening': 1, 'have': 2, 'most': 2, 'extraordinary': 1, 'time': 2, 'when': 2, \"i'm\": 2, 'fishing': 3, 'for': 2, 'what': 1, 'might': 1, 'ask': 1, 'why': 1, 'compliments': 1, 'course': 1, 'stunning': 1, 'pair': 1, 'radiant': 1, 'blue': 1, 'eyes': 1, 'they': 1, 'will': 2, 'pierce': 1, 'soul': 1, 'anyone': 1, 'who': 1, 'dare': 1, 'gaze': 1, 'upon': 1, 'countenance': 1, 'quite': 2, 'enjoy': 3, 'going': 1, 'on': 3, 'long': 1, 'jaunts': 1, 'through': 2, 'garden': 1, 'paths': 1, 'short': 1, 'walks': 1, 'greenhouses': 1, 'hope': 1, 'that': 4, 'jay': 2, 'as': 2, 'absolutely': 1, 'interesting': 1, 'he': 2, 'appears': 1, 'television': 1, 'find': 1, 'has': 1, 'some': 1, 'curious': 1, 'tastes': 1, 'style': 1, 'humor': 1, 'out': 1, 'about': 1, 'hearing': 1, 'tales': 1, 'instill': 1, 'heart': 1, 'hearts': 1, 'fascination': 1, 'beguiles': 1, 'every': 2, 'life': 2, 'fiber': 1, 'being': 2, 'scintillates': 1, 'vascillates': 1, 'with': 1, 'extreme': 1, 'pleasure': 1, 'during': 1, 'one': 1, 'these': 1, 'charming': 1, 'anecdotes': 1, 'significantly': 1, 'pleases': 1, 'beautiful': 1, 'personage': 1, 'cannot': 1, 'wait': 1, 'brand': 1, 'new': 1, 'it': 1, 'certainly': 1, 'seems': 1, 'like': 1, 'grand': 1, 'explore': 1}\n"
     ]
    }
   ],
   "source": [
    "print(gregg_sample.word_count_frequency)"
   ]
  },
  {
   "cell_type": "markdown",
   "metadata": {},
   "source": [
    "## The Second Indicator: Favorite Words\n",
    "\n",
    "Use `build_frequency_table` with the prepared text to create a frequency table that counts how frequently all the words in each text sample appears. Call these functions in the constructor for `TextSample` and assign the word frequency table to a value called `self.word_count_frequency`."
   ]
  },
  {
   "cell_type": "markdown",
   "metadata": {},
   "source": [
    "## The Third Indicator: N-Grams\n",
    "\n",
    "An <a href='https://en.wikipedia.org/wiki/N-gram' target=\"_blank\">n-gram</a> is a text analysis technique used for pattern recognition and applicable throughout lingusitics. We're going to use n-grams to find who uses similar word-pairs to the murderer, and we think it's going to make our evidence strong enough to conclusively find the killer.\n",
    "\n",
    "Create a function called `ngram_creator` that takes a parameter `text_list`, a treated in-order list of the words in a text sample. `ngram_creator` should return a list of all adjacent pairs of words, styled as strings with a space in the center.\n",
    "\n",
    "For instance, calling `ngram_creator` with the input `['what', 'in', 'the', 'world', 'is', 'going', 'on']`\n",
    "Should produce the output `['what in', 'in the', 'the world', 'world is', 'is going', 'going on']`.\n",
    "\n",
    "These are two-word n-grams."
   ]
  },
  {
   "cell_type": "code",
   "execution_count": 7,
   "metadata": {},
   "outputs": [
    {
     "name": "stdout",
     "output_type": "stream",
     "text": [
      "{'salutations my': 1, 'my name': 1, 'name myrtle': 1, 'myrtle myrtle': 1, 'myrtle beech': 1, 'beech i': 1, 'i am': 2, 'am a': 1, 'a woman': 1, 'woman of': 1, 'of simple': 1, 'simple tastes': 1, 'tastes i': 1, 'i enjoy': 1, 'enjoy reading': 1, 'reading thinking': 1, 'thinking and': 1, 'and doing': 1, 'doing my': 1, 'my taxes': 1, 'taxes i': 1, 'i entered': 1, 'entered this': 1, 'this competition': 1, 'competition because': 1, 'because i': 1, 'i want': 2, 'want a': 2, 'a serious': 1, 'serious relationship': 1, 'relationship i': 1, 'a commitment': 1, 'commitment the': 1, 'the last': 1, 'last man': 1, 'man i': 1, 'i dated': 1, 'dated was': 1, 'was too': 1, 'too whimsical': 1, 'whimsical he': 1, 'he wanted': 1, 'wanted to': 1, 'to go': 1, 'go on': 1, 'on dates': 1, 'dates that': 1, 'that had': 1, 'had no': 1, 'no plan': 1, 'plan no': 1, 'no end': 1, 'end goal': 1, 'goal sometimes': 1, 'sometimes we': 1, 'we would': 1, 'would just': 1, 'just end': 1, 'end up': 1, 'up wandering': 1, 'wandering the': 1, 'the streets': 1, 'streets after': 1, 'after dinner': 1, 'dinner he': 1, 'he called': 1, 'called it': 1, 'it a': 1, 'a walk': 2, 'walk a': 1, 'walk with': 1, 'with no': 1, 'no destination': 1, 'destination can': 1, 'can you': 1, 'you imagine': 1, 'imagine i': 1, 'i like': 2, 'like every': 1, 'every action': 1, 'action i': 1, 'i take': 2, 'take to': 1, 'to have': 1, 'have a': 1, 'a measurable': 1, 'measurable effect': 1, 'effect when': 1, 'when i': 2, 'i see': 1, 'see a': 1, 'a movie': 1, 'movie i': 1, 'like to': 1, 'to walk': 1, 'walk away': 1, 'away with': 1, 'with insights': 1, 'insights that': 1, 'that i': 1, 'i did': 1, 'did not': 1, 'not have': 1, 'have before': 1, 'before when': 1, 'take a': 1, 'a bike': 1, 'bike ride': 1, 'ride there': 1, 'there better': 1, 'better be': 1, 'be a': 1, 'a worthy': 1, 'worthy destination': 1, 'destination at': 1, 'at the': 1, 'the end': 1, 'end of': 1, 'of the': 1, 'the bike': 1, 'bike path': 1, 'path jay': 1, 'jay seems': 1, 'seems frivolous': 1, 'frivolous at': 1, 'at times': 1, 'times this': 1, 'this worries': 1, 'worries me': 1, 'me however': 1, 'however it': 1, 'it is': 1, 'is my': 1, 'my staunch': 1, 'staunch belief': 1, 'belief that': 1, 'that one': 1, 'one does': 1, 'does not': 1, 'not make': 1, 'make and': 1, 'and keep': 1, 'keep money': 1, 'money without': 1, 'without having': 1, 'having a': 1, 'a modicum': 1, 'modicum of': 1, 'of discipline': 1, 'discipline as': 1, 'as such': 1, 'such i': 1, 'am hopeful': 1, 'hopeful i': 1, 'i will': 1, 'will now': 1, 'now list': 1, 'list three': 1, 'three things': 1, 'things i': 1, 'i cannot': 1, 'cannot live': 1, 'live without': 1, 'without water': 1, 'water emery': 1, 'emery boards': 1, 'boards dogs': 1, 'dogs thank': 1, 'thank you': 1, 'you for': 1, 'for the': 1, 'the opportunity': 1, 'opportunity to': 1, 'to introduce': 1, 'introduce myself': 1, 'myself i': 1, 'i look': 1, 'look forward': 1, 'forward to': 1, 'to the': 1, 'the competition': 1}\n"
     ]
    }
   ],
   "source": [
    "print(myrtle_sample.ngram_frequency)"
   ]
  },
  {
   "cell_type": "markdown",
   "metadata": {},
   "source": [
    "Use `ngram_creator` along with the prepared text to create a list of all the two-word ngrams in each `TextSample`. Use `build_frequency_table` to tabulate the frequency of each ngram. In the constructor for `TextSample` save this frequency table as `self.ngram_frequency`."
   ]
  },
  {
   "cell_type": "markdown",
   "metadata": {},
   "source": [
    "## Comparing Two Frequency Tables\n",
    "\n",
    "We want to know how similar two frequency tables are, let's write a function that computes the comparison between two frequency tables and scores them based on similarity.\n",
    "\n",
    "Write a function called `frequency_comparison` that takes two parameters, `table1` and `table2`. It should define two local variables, `appearances` and `mutual_appearances`. \n",
    "\n",
    "Iterate through `table1`'s keys and check if `table2` has the same key defined. If it is, compare the two values for the key -- the smaller value should get added to `mutual_appearances` and the larger should get added to `appearances`. If the key doesn't exist in `table2` the value for the key in `table1` should be added to `appearances`.\n",
    "\n",
    "Remember afterwards to iterate through all of `table2`'s keys that aren't in `table1` and add those to `appearances` as well.\n",
    "\n",
    "Return a frequency comparison score equal to the mutual appearances divided by the total appearances."
   ]
  },
  {
   "cell_type": "code",
   "execution_count": 8,
   "metadata": {},
   "outputs": [
    {
     "name": "stdout",
     "output_type": "stream",
     "text": [
      "0.1259259259259259\n",
      "0.02643171806167401\n",
      "0.038461538461538464\n"
     ]
    }
   ],
   "source": [
    "print(frequency_comparison(murderer_sample.ngram_frequency, lily_sample.ngram_frequency))\n",
    "print(frequency_comparison(murderer_sample.ngram_frequency, myrtle_sample.ngram_frequency))\n",
    "print(frequency_comparison(murderer_sample.ngram_frequency, gregg_sample.ngram_frequency))\n"
   ]
  },
  {
   "cell_type": "markdown",
   "metadata": {},
   "source": [
    "## Comparing Average Sentence Length\n",
    "\n",
    "In order to calculate the change between the average sentence lengths of two `TextSamples` we're going to use the formula for the percent difference.\n",
    "\n",
    "Write a function called `percent_difference` that returns the percent difference as calculated from the following formula:\n",
    "\n",
    "$$\\frac{|\\ value1 - value2\\ |}{\\frac{value1 + value2}{2}}$$\n",
    "\n",
    "In the numerator is the absolute value (use `abs()`) of the two values subtracted from each other. In the denominator is the average of the two values (value1 + value2 divided by two)."
   ]
  },
  {
   "cell_type": "code",
   "execution_count": null,
   "metadata": {},
   "outputs": [],
   "source": []
  },
  {
   "cell_type": "markdown",
   "metadata": {},
   "source": [
    "## Scoring Similarity with All Three Indicators\n",
    "\n",
    "We want to figure out who did it, so let's use all three of the indicators we built to score text similarity. Define a function `find_text_similarity` that takes two `TextSample` arguments and returns a float between 0 and 1 where 0 means completely different and 1 means the same exact sample. You can evaluate the similarity by the following criteria:\n",
    "\n",
    "- Calculate the percent difference of their average sentence length using `percent_difference`. Save that into a variable called `sentence_length_difference`. Since we want to find how _similar_ the two passages are calculate the inverse of `sentence_length_difference` by using the formula `abs(1 - sentence_length_difference)`. Save that into a variable called `sentence_length_similarity`.\n",
    "- Calculate the difference between their word usage using `frequency_comparison` on both `TextSample`'s `word_count_frequency` attributes. Save that into a variable called `word_count_similarity`.\n",
    "- Calculate the difference between their two-word ngram using `frequency_comparison` on both `TextSample`'s `ngram_frequency` attributes. Save that into a variable called `ngram_similarity`.\n",
    "- Add all three similarities together and divide by 3."
   ]
  },
  {
   "cell_type": "code",
   "execution_count": null,
   "metadata": {},
   "outputs": [],
   "source": []
  },
  {
   "cell_type": "markdown",
   "metadata": {},
   "source": [
    "## Rendering the Results\n",
    "\n",
    "We want to print out the results in a way that we can read! For each contestant on _A Brand New Jay_ print out the following:\n",
    "\n",
    "- Their name\n",
    "- Their similarity score to the murder letter"
   ]
  },
  {
   "cell_type": "code",
   "execution_count": 9,
   "metadata": {
    "scrolled": false
   },
   "outputs": [
    {
     "name": "stdout",
     "output_type": "stream",
     "text": [
      "Suspect: Myrtle Beech \n",
      "Score similarity: 0.15485291804310208\n",
      "\n",
      "Suspect: Lily Trebuchet \n",
      "Score similarity: 0.5175747863247864\n",
      "\n",
      "Suspect: Gregg T. Fishy \n",
      "Score similarity: 0.2715524034672971\n"
     ]
    }
   ],
   "source": [
    "print(\"Suspect: Myrtle Beech \\nScore similarity: {}\".format(find_text_similarity(myrtle_beech_intro, murder_note)))\n",
    "print(\"\\nSuspect: Lily Trebuchet \\nScore similarity: {}\".format(find_text_similarity(lily_trebuchet_intro, murder_note)))\n",
    "print(\"\\nSuspect: Gregg T. Fishy \\nScore similarity: {}\".format(find_text_similarity(gregg_t_fishy_intro, murder_note)))"
   ]
  },
  {
   "cell_type": "markdown",
   "metadata": {},
   "source": [
    "# Who Dunnit?\n",
    "\n",
    "In the cell below, print the name of the person who killed Jay Stacksby."
   ]
  },
  {
   "cell_type": "code",
   "execution_count": 10,
   "metadata": {},
   "outputs": [
    {
     "name": "stdout",
     "output_type": "stream",
     "text": [
      "Lily Trebuchet\n"
     ]
    }
   ],
   "source": [
    "print(\"Lily Trebuchet\")"
   ]
  }
 ],
 "metadata": {
  "kernelspec": {
   "display_name": "Python 3",
   "language": "python",
   "name": "python3"
  },
  "language_info": {
   "codemirror_mode": {
    "name": "ipython",
    "version": 3
   },
   "file_extension": ".py",
   "mimetype": "text/x-python",
   "name": "python",
   "nbconvert_exporter": "python",
   "pygments_lexer": "ipython3",
   "version": "3.6.8"
  }
 },
 "nbformat": 4,
 "nbformat_minor": 2
}
